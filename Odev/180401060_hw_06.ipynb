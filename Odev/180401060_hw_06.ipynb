{
 "cells": [
  {
   "cell_type": "code",
   "execution_count": 1,
   "metadata": {},
   "outputs": [
    {
     "name": "stdout",
     "output_type": "stream",
     "text": [
      "[(221, 227), (211, 223), (217, 244), (18, 126), (122, 249)]\n"
     ]
    }
   ],
   "source": [
    "import random, itertools\n",
    "\n",
    "# Kişi ve Sayfa sayısı bilgisine göre tuple oluşturuluyor.\n",
    "# Method, elemanları tuple olan bir liste döndürüyor.\n",
    "def generateRandom(user_count=5, page_count = 250):\n",
    "    list_user = []\n",
    "    for i in range(0, user_count):\n",
    "        minPage = random.randint(0, page_count)\n",
    "        maxPage = random.randint(minPage, page_count)\n",
    "        list_user.append((minPage, maxPage))\n",
    "    return list_user\n",
    "\n",
    "# Method, parametre olarak bir sözlük ve bir key alıyor.\n",
    "# Parametredeki keyi ya bir artıryor\n",
    "def add_page_dic(pages_dict, pages): \n",
    "    if pages in pages_dict:\n",
    "        pages_dict[pages] += 1\n",
    "    else:\n",
    "        pages_dict[pages] = 1\n",
    "\n",
    "\n",
    "def find_dic_max(temp_dict):\n",
    "    if not temp_dict:\n",
    "        return \" \"\n",
    "    return max(temp_dict, key=temp_dict.get)\n",
    "\n",
    "\n",
    "def findMaxPage(inList):\n",
    "    page_dict = dict()\n",
    "    for i in range(len(inList)):\n",
    "        for pages in range(inList[i][0], inList[i][1]+1):\n",
    "            add_page_dic(page_dict, pages)\n",
    "    return find_dic_max(page_dict)\n",
    "\n",
    "\n",
    "all_users = generateRandom()\n",
    "print(all_users)"
   ]
  },
  {
   "cell_type": "code",
   "execution_count": 2,
   "metadata": {},
   "outputs": [
    {
     "name": "stdout",
     "output_type": "stream",
     "text": [
      "221\n"
     ]
    }
   ],
   "source": [
    "maxPage = findMaxPage(all_users)\n",
    "print(maxPage)"
   ]
  },
  {
   "cell_type": "code",
   "execution_count": 3,
   "metadata": {},
   "outputs": [
    {
     "name": "stdout",
     "output_type": "stream",
     "text": [
      "En çok okuyan grup:  ((217, 244), (18, 126))\n",
      "En çok okuyan gruptaki kişi sayısı:  2\n",
      "En çok okuyan grubun okuduğu sayfa sayısı:  137\n"
     ]
    }
   ],
   "source": [
    "# Kullanıcıların okudukları sayfa aralıklarının kombinasyonlarını alıyoruz.\n",
    "list_combinations = []\n",
    "size = len(all_users)\n",
    "for i in range(2, size+1):\n",
    "    x = list(itertools.combinations(all_users, i))\n",
    "    list_combinations.append(x)\n",
    "\n",
    "maxPage = 0\n",
    "maxGroup = []\n",
    "groupCount = 0\n",
    "\n",
    "for pages in all_users:  # Tek eleman bazında kombinasyon yapılamayacağı için tekli durumları ayrı değerlendirmeye alıyoruz.\n",
    "    pageCount = pages[1]-pages[0]+1\n",
    "    if pageCount > maxPage:\n",
    "        maxPage = pageCount\n",
    "        groupCount = 1\n",
    "\n",
    "for i in list_combinations:  # Çoklu eleman bazında kombinasyon yapıldığı durumları ise ayrı değerlendirmeye alıyoruz.\n",
    "    for k in i:  # Burada i tüm kombinasyon listesi, k bunlardan bir tanesi oluyor.\n",
    "        y = list(itertools.combinations(k, 2)) # Karşılaştırmak için ikili kombinasyonları alıyoruz.\n",
    "        flag = 1\n",
    "        for j in y:  # y belirlenen ikili kombinasyonların listesi, j de bir tanesi oluyor.\n",
    "            if flag == 1:\n",
    "                if ((j[0][0] < j[1][0] and j[0][1] < j[1][0]) or (j[0][0] > j[1][1] and j[0][1] > j[1][1])):\n",
    "                    flag = 1\n",
    "                else:\n",
    "                    flag = 0\n",
    "        if flag == 1: # flag = 1 ise istenilen durum bulunmuştur.\n",
    "            tempSum = 0\n",
    "            for page in k: # page, koşulun sağlandığı k birimindeki tuple tipindeki elemanların bir tanesi\n",
    "                tempSum = tempSum+(page[1]-page[0]+1) # tempSum, k birimindeki grubun toplam okuduğu sayfa sayısı\n",
    "            if tempSum > maxPage:  # burada tüm diğer  durumlar ile kıyaslanıp en ideali bulunuyor.\n",
    "                maxPage = tempSum\n",
    "                maxGroup.append(k)\n",
    "\n",
    "if len(maxGroup) > 0:\n",
    "    group = maxGroup[-1]\n",
    "    print(\"En çok okuyan grup: \", group)\n",
    "    print(\"En çok okuyan gruptaki kişi sayısı: \", len(group))\n",
    "    print(\"En çok okuyan grubun okuduğu sayfa sayısı: \", maxPage)\n",
    "else:\n",
    "    print(\"En çok okuyan grupta herhangi bir kişi bulunamadı!\")"
   ]
  },
  {
   "cell_type": "code",
   "execution_count": null,
   "metadata": {},
   "outputs": [],
   "source": []
  }
 ],
 "metadata": {
  "kernelspec": {
   "display_name": "Python 3",
   "language": "python",
   "name": "python3"
  },
  "language_info": {
   "codemirror_mode": {
    "name": "ipython",
    "version": 3
   },
   "file_extension": ".py",
   "mimetype": "text/x-python",
   "name": "python",
   "nbconvert_exporter": "python",
   "pygments_lexer": "ipython3",
   "version": "3.7.3"
  }
 },
 "nbformat": 4,
 "nbformat_minor": 4
}
