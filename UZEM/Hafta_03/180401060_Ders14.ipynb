{
 "cells": [
  {
   "cell_type": "code",
   "execution_count": 1,
   "metadata": {},
   "outputs": [],
   "source": [
    "from sympy import Symbol, pprint, exp, sqrt, pi, Integral "
   ]
  },
  {
   "cell_type": "code",
   "execution_count": 2,
   "metadata": {},
   "outputs": [
    {
     "name": "stdout",
     "output_type": "stream",
     "text": [
      "             2 \n",
      "    -(x - 10)  \n",
      "    ───────────\n",
      "         2     \n",
      "√2⋅ℯ           \n",
      "───────────────\n",
      "      2⋅√π     \n"
     ]
    }
   ],
   "source": [
    "x = Symbol('x') \n",
    "p = exp(-(x - 10)**2/2)/sqrt(2*pi)\n",
    "pprint(p)"
   ]
  },
  {
   "cell_type": "code",
   "execution_count": 3,
   "metadata": {},
   "outputs": [],
   "source": [
    "# P(11<x<12)=n(E)/n(S)\n",
    "# P(x) = olasılık ifadesi\n",
    "# n(S) = örneklem uzayı ifadesi\n",
    "# n(E) = örnek olay ifadesi"
   ]
  },
  {
   "cell_type": "code",
   "execution_count": 4,
   "metadata": {},
   "outputs": [
    {
     "name": "stdout",
     "output_type": "stream",
     "text": [
      "0.135905121983278\n"
     ]
    }
   ],
   "source": [
    "pprint(Integral(p, (x, 11, 12)).doit().evalf()) # P(11<x<12) ifadesinin sonucu"
   ]
  },
  {
   "cell_type": "code",
   "execution_count": null,
   "metadata": {},
   "outputs": [],
   "source": []
  }
 ],
 "metadata": {
  "kernelspec": {
   "display_name": "Python 3",
   "language": "python",
   "name": "python3"
  },
  "language_info": {
   "codemirror_mode": {
    "name": "ipython",
    "version": 3
   },
   "file_extension": ".py",
   "mimetype": "text/x-python",
   "name": "python",
   "nbconvert_exporter": "python",
   "pygments_lexer": "ipython3",
   "version": "3.7.3"
  }
 },
 "nbformat": 4,
 "nbformat_minor": 4
}
