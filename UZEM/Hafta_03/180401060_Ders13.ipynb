{
 "cells": [
  {
   "cell_type": "code",
   "execution_count": 1,
   "metadata": {},
   "outputs": [],
   "source": [
    "from sympy import Symbol, pprint, Limit "
   ]
  },
  {
   "cell_type": "code",
   "execution_count": 2,
   "metadata": {},
   "outputs": [],
   "source": [
    "t = Symbol('t') \n",
    "St = 5*t**2 + 2*t + 8"
   ]
  },
  {
   "cell_type": "code",
   "execution_count": 3,
   "metadata": {},
   "outputs": [],
   "source": [
    "t1 = Symbol('t1')\n",
    "delta_t = Symbol('delta_t')\n",
    "St1 = St.subs({t: t1})\n",
    "St1_delta = St.subs({t: t1 + delta_t})"
   ]
  },
  {
   "cell_type": "code",
   "execution_count": 4,
   "metadata": {},
   "outputs": [
    {
     "name": "stdout",
     "output_type": "stream",
     "text": [
      "           2              2\n",
      "2⋅δₜ - 5⋅t₁  + 5⋅(δₜ + t₁) \n",
      "───────────────────────────\n",
      "             δₜ            \n"
     ]
    }
   ],
   "source": [
    "pprint((St1_delta-St1)/delta_t) # oluşturduğumuz fonksiyon"
   ]
  },
  {
   "cell_type": "code",
   "execution_count": 5,
   "metadata": {},
   "outputs": [
    {
     "name": "stdout",
     "output_type": "stream",
     "text": [
      "10⋅t₁ + 2\n"
     ]
    }
   ],
   "source": [
    "pprint(Limit((St1_delta-St1)/delta_t, delta_t, 0).doit()) # oluşturduğumuz fonksiyonda (delta_t -> 0) giderkenki limiti"
   ]
  },
  {
   "cell_type": "code",
   "execution_count": null,
   "metadata": {},
   "outputs": [],
   "source": []
  }
 ],
 "metadata": {
  "kernelspec": {
   "display_name": "Python 3",
   "language": "python",
   "name": "python3"
  },
  "language_info": {
   "codemirror_mode": {
    "name": "ipython",
    "version": 3
   },
   "file_extension": ".py",
   "mimetype": "text/x-python",
   "name": "python",
   "nbconvert_exporter": "python",
   "pygments_lexer": "ipython3",
   "version": "3.7.3"
  }
 },
 "nbformat": 4,
 "nbformat_minor": 4
}
